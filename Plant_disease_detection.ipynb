{
  "cells": [
    {
      "cell_type": "markdown",
      "metadata": {
        "id": "view-in-github",
        "colab_type": "text"
      },
      "source": [
        "<a href=\"https://colab.research.google.com/github/ishikasingh21/Plant-Disease-detection/blob/main/Plant_disease_detection.ipynb\" target=\"_parent\"><img src=\"https://colab.research.google.com/assets/colab-badge.svg\" alt=\"Open In Colab\"/></a>"
      ]
    },
    {
      "cell_type": "code",
      "execution_count": null,
      "metadata": {
        "id": "d0de988f",
        "outputId": "4fdcec80-c70e-42a9-e8fd-6bbdcdce1ae6",
        "colab": {
          "base_uri": "https://localhost:8080/",
          "height": 390
        }
      },
      "outputs": [
        {
          "output_type": "error",
          "ename": "MessageError",
          "evalue": "Error: credential propagation was unsuccessful",
          "traceback": [
            "\u001b[0;31m---------------------------------------------------------------------------\u001b[0m",
            "\u001b[0;31mMessageError\u001b[0m                              Traceback (most recent call last)",
            "\u001b[0;32m<ipython-input-1-ce6e9fdf758b>\u001b[0m in \u001b[0;36m<cell line: 5>\u001b[0;34m()\u001b[0m\n\u001b[1;32m      3\u001b[0m \u001b[0;32mimport\u001b[0m \u001b[0mmatplotlib\u001b[0m\u001b[0;34m.\u001b[0m\u001b[0mpyplot\u001b[0m \u001b[0;32mas\u001b[0m \u001b[0mplt\u001b[0m\u001b[0;34m\u001b[0m\u001b[0;34m\u001b[0m\u001b[0m\n\u001b[1;32m      4\u001b[0m \u001b[0;32mfrom\u001b[0m \u001b[0mgoogle\u001b[0m\u001b[0;34m.\u001b[0m\u001b[0mcolab\u001b[0m \u001b[0;32mimport\u001b[0m \u001b[0mdrive\u001b[0m\u001b[0;34m\u001b[0m\u001b[0;34m\u001b[0m\u001b[0m\n\u001b[0;32m----> 5\u001b[0;31m \u001b[0mdrive\u001b[0m\u001b[0;34m.\u001b[0m\u001b[0mmount\u001b[0m\u001b[0;34m(\u001b[0m\u001b[0;34m'/content/drive'\u001b[0m\u001b[0;34m,\u001b[0m\u001b[0mforce_remount\u001b[0m\u001b[0;34m=\u001b[0m\u001b[0;32mTrue\u001b[0m\u001b[0;34m)\u001b[0m\u001b[0;34m\u001b[0m\u001b[0;34m\u001b[0m\u001b[0m\n\u001b[0m\u001b[1;32m      6\u001b[0m \u001b[0;32mimport\u001b[0m \u001b[0mwarnings\u001b[0m\u001b[0;34m\u001b[0m\u001b[0;34m\u001b[0m\u001b[0m\n\u001b[1;32m      7\u001b[0m \u001b[0mwarnings\u001b[0m\u001b[0;34m.\u001b[0m\u001b[0mfilterwarnings\u001b[0m\u001b[0;34m(\u001b[0m\u001b[0;34m'ignore'\u001b[0m\u001b[0;34m)\u001b[0m\u001b[0;34m\u001b[0m\u001b[0;34m\u001b[0m\u001b[0m\n",
            "\u001b[0;32m/usr/local/lib/python3.10/dist-packages/google/colab/drive.py\u001b[0m in \u001b[0;36mmount\u001b[0;34m(mountpoint, force_remount, timeout_ms, readonly)\u001b[0m\n\u001b[1;32m     98\u001b[0m \u001b[0;32mdef\u001b[0m \u001b[0mmount\u001b[0m\u001b[0;34m(\u001b[0m\u001b[0mmountpoint\u001b[0m\u001b[0;34m,\u001b[0m \u001b[0mforce_remount\u001b[0m\u001b[0;34m=\u001b[0m\u001b[0;32mFalse\u001b[0m\u001b[0;34m,\u001b[0m \u001b[0mtimeout_ms\u001b[0m\u001b[0;34m=\u001b[0m\u001b[0;36m120000\u001b[0m\u001b[0;34m,\u001b[0m \u001b[0mreadonly\u001b[0m\u001b[0;34m=\u001b[0m\u001b[0;32mFalse\u001b[0m\u001b[0;34m)\u001b[0m\u001b[0;34m:\u001b[0m\u001b[0;34m\u001b[0m\u001b[0;34m\u001b[0m\u001b[0m\n\u001b[1;32m     99\u001b[0m   \u001b[0;34m\"\"\"Mount your Google Drive at the specified mountpoint path.\"\"\"\u001b[0m\u001b[0;34m\u001b[0m\u001b[0;34m\u001b[0m\u001b[0m\n\u001b[0;32m--> 100\u001b[0;31m   return _mount(\n\u001b[0m\u001b[1;32m    101\u001b[0m       \u001b[0mmountpoint\u001b[0m\u001b[0;34m,\u001b[0m\u001b[0;34m\u001b[0m\u001b[0;34m\u001b[0m\u001b[0m\n\u001b[1;32m    102\u001b[0m       \u001b[0mforce_remount\u001b[0m\u001b[0;34m=\u001b[0m\u001b[0mforce_remount\u001b[0m\u001b[0;34m,\u001b[0m\u001b[0;34m\u001b[0m\u001b[0;34m\u001b[0m\u001b[0m\n",
            "\u001b[0;32m/usr/local/lib/python3.10/dist-packages/google/colab/drive.py\u001b[0m in \u001b[0;36m_mount\u001b[0;34m(mountpoint, force_remount, timeout_ms, ephemeral, readonly)\u001b[0m\n\u001b[1;32m    127\u001b[0m   )\n\u001b[1;32m    128\u001b[0m   \u001b[0;32mif\u001b[0m \u001b[0mephemeral\u001b[0m\u001b[0;34m:\u001b[0m\u001b[0;34m\u001b[0m\u001b[0;34m\u001b[0m\u001b[0m\n\u001b[0;32m--> 129\u001b[0;31m     _message.blocking_request(\n\u001b[0m\u001b[1;32m    130\u001b[0m         \u001b[0;34m'request_auth'\u001b[0m\u001b[0;34m,\u001b[0m \u001b[0mrequest\u001b[0m\u001b[0;34m=\u001b[0m\u001b[0;34m{\u001b[0m\u001b[0;34m'authType'\u001b[0m\u001b[0;34m:\u001b[0m \u001b[0;34m'dfs_ephemeral'\u001b[0m\u001b[0;34m}\u001b[0m\u001b[0;34m,\u001b[0m \u001b[0mtimeout_sec\u001b[0m\u001b[0;34m=\u001b[0m\u001b[0;32mNone\u001b[0m\u001b[0;34m\u001b[0m\u001b[0;34m\u001b[0m\u001b[0m\n\u001b[1;32m    131\u001b[0m     )\n",
            "\u001b[0;32m/usr/local/lib/python3.10/dist-packages/google/colab/_message.py\u001b[0m in \u001b[0;36mblocking_request\u001b[0;34m(request_type, request, timeout_sec, parent)\u001b[0m\n\u001b[1;32m    174\u001b[0m       \u001b[0mrequest_type\u001b[0m\u001b[0;34m,\u001b[0m \u001b[0mrequest\u001b[0m\u001b[0;34m,\u001b[0m \u001b[0mparent\u001b[0m\u001b[0;34m=\u001b[0m\u001b[0mparent\u001b[0m\u001b[0;34m,\u001b[0m \u001b[0mexpect_reply\u001b[0m\u001b[0;34m=\u001b[0m\u001b[0;32mTrue\u001b[0m\u001b[0;34m\u001b[0m\u001b[0;34m\u001b[0m\u001b[0m\n\u001b[1;32m    175\u001b[0m   )\n\u001b[0;32m--> 176\u001b[0;31m   \u001b[0;32mreturn\u001b[0m \u001b[0mread_reply_from_input\u001b[0m\u001b[0;34m(\u001b[0m\u001b[0mrequest_id\u001b[0m\u001b[0;34m,\u001b[0m \u001b[0mtimeout_sec\u001b[0m\u001b[0;34m)\u001b[0m\u001b[0;34m\u001b[0m\u001b[0;34m\u001b[0m\u001b[0m\n\u001b[0m",
            "\u001b[0;32m/usr/local/lib/python3.10/dist-packages/google/colab/_message.py\u001b[0m in \u001b[0;36mread_reply_from_input\u001b[0;34m(message_id, timeout_sec)\u001b[0m\n\u001b[1;32m    101\u001b[0m     ):\n\u001b[1;32m    102\u001b[0m       \u001b[0;32mif\u001b[0m \u001b[0;34m'error'\u001b[0m \u001b[0;32min\u001b[0m \u001b[0mreply\u001b[0m\u001b[0;34m:\u001b[0m\u001b[0;34m\u001b[0m\u001b[0;34m\u001b[0m\u001b[0m\n\u001b[0;32m--> 103\u001b[0;31m         \u001b[0;32mraise\u001b[0m \u001b[0mMessageError\u001b[0m\u001b[0;34m(\u001b[0m\u001b[0mreply\u001b[0m\u001b[0;34m[\u001b[0m\u001b[0;34m'error'\u001b[0m\u001b[0;34m]\u001b[0m\u001b[0;34m)\u001b[0m\u001b[0;34m\u001b[0m\u001b[0;34m\u001b[0m\u001b[0m\n\u001b[0m\u001b[1;32m    104\u001b[0m       \u001b[0;32mreturn\u001b[0m \u001b[0mreply\u001b[0m\u001b[0;34m.\u001b[0m\u001b[0mget\u001b[0m\u001b[0;34m(\u001b[0m\u001b[0;34m'data'\u001b[0m\u001b[0;34m,\u001b[0m \u001b[0;32mNone\u001b[0m\u001b[0;34m)\u001b[0m\u001b[0;34m\u001b[0m\u001b[0;34m\u001b[0m\u001b[0m\n\u001b[1;32m    105\u001b[0m \u001b[0;34m\u001b[0m\u001b[0m\n",
            "\u001b[0;31mMessageError\u001b[0m: Error: credential propagation was unsuccessful"
          ]
        }
      ],
      "source": [
        "import tensorflow as tf\n",
        "from tensorflow.keras import models,layers\n",
        "import matplotlib.pyplot as plt\n",
        "from google.colab import drive\n",
        "drive.mount('/content/drive',force_remount=True)\n",
        "import warnings\n",
        "warnings.filterwarnings('ignore')"
      ],
      "id": "d0de988f"
    },
    {
      "cell_type": "code",
      "source": [
        "from google.colab import drive\n",
        "drive.mount('/content/drive')"
      ],
      "metadata": {
        "id": "HNiHzz9FwIS7"
      },
      "id": "HNiHzz9FwIS7",
      "execution_count": null,
      "outputs": []
    },
    {
      "cell_type": "code",
      "execution_count": null,
      "metadata": {
        "id": "e80e60ea"
      },
      "outputs": [],
      "source": [
        "img_size=256\n",
        "bat_size=32\n",
        "channel=3\n",
        "epoch=50"
      ],
      "id": "e80e60ea"
    },
    {
      "cell_type": "code",
      "execution_count": null,
      "metadata": {
        "colab": {
          "base_uri": "https://localhost:8080/"
        },
        "id": "084d5b6b",
        "outputId": "27095d6a-654e-4a0d-d134-d3da65b47f56"
      },
      "outputs": [
        {
          "name": "stdout",
          "output_type": "stream",
          "text": [
            "Found 2152 files belonging to 3 classes.\n"
          ]
        }
      ],
      "source": [
        "dataset=tf.keras.preprocessing.image_dataset_from_directory(\"/content/drive/MyDrive/Colab Notebooks/plant disease detection/Plant databasse\",\n",
        "                                        shuffle=True,\n",
        "                                        image_size=(img_size,img_size),\n",
        "                                        batch_size=bat_size)"
      ],
      "id": "084d5b6b"
    },
    {
      "cell_type": "code",
      "execution_count": null,
      "metadata": {
        "colab": {
          "base_uri": "https://localhost:8080/",
          "height": 1000
        },
        "id": "r9tWjFaBl5p1",
        "outputId": "c87d4b8c-7f25-48ac-e0ee-ab4b2363ffc8"
      },
      "outputs": [
        {
          "name": "stdout",
          "output_type": "stream",
          "text": [
            "Looking in indexes: https://pypi.org/simple, https://us-python.pkg.dev/colab-wheels/public/simple/\n",
            "Collecting tensorflow-gpu\n",
            "  Downloading tensorflow_gpu-2.11.0-cp38-cp38-manylinux_2_17_x86_64.manylinux2014_x86_64.whl (588.3 MB)\n",
            "\u001b[K     |████████████████████████████████| 588.3 MB 15 kB/s \n",
            "\u001b[?25hRequirement already satisfied: grpcio<2.0,>=1.24.3 in /usr/local/lib/python3.8/dist-packages (from tensorflow-gpu) (1.50.0)\n",
            "Collecting tensorflow-estimator<2.12,>=2.11.0\n",
            "  Downloading tensorflow_estimator-2.11.0-py2.py3-none-any.whl (439 kB)\n",
            "\u001b[K     |████████████████████████████████| 439 kB 51.5 MB/s \n",
            "\u001b[?25hRequirement already satisfied: protobuf<3.20,>=3.9.2 in /usr/local/lib/python3.8/dist-packages (from tensorflow-gpu) (3.19.6)\n",
            "Requirement already satisfied: termcolor>=1.1.0 in /usr/local/lib/python3.8/dist-packages (from tensorflow-gpu) (2.1.1)\n",
            "Requirement already satisfied: typing-extensions>=3.6.6 in /usr/local/lib/python3.8/dist-packages (from tensorflow-gpu) (4.1.1)\n",
            "Requirement already satisfied: gast<=0.4.0,>=0.2.1 in /usr/local/lib/python3.8/dist-packages (from tensorflow-gpu) (0.4.0)\n",
            "Collecting tensorboard<2.12,>=2.11\n",
            "  Downloading tensorboard-2.11.0-py3-none-any.whl (6.0 MB)\n",
            "\u001b[K     |████████████████████████████████| 6.0 MB 45.5 MB/s \n",
            "\u001b[?25hRequirement already satisfied: google-pasta>=0.1.1 in /usr/local/lib/python3.8/dist-packages (from tensorflow-gpu) (0.2.0)\n",
            "Requirement already satisfied: astunparse>=1.6.0 in /usr/local/lib/python3.8/dist-packages (from tensorflow-gpu) (1.6.3)\n",
            "Requirement already satisfied: h5py>=2.9.0 in /usr/local/lib/python3.8/dist-packages (from tensorflow-gpu) (3.1.0)\n",
            "Requirement already satisfied: wrapt>=1.11.0 in /usr/local/lib/python3.8/dist-packages (from tensorflow-gpu) (1.14.1)\n",
            "Requirement already satisfied: packaging in /usr/local/lib/python3.8/dist-packages (from tensorflow-gpu) (21.3)\n",
            "Collecting flatbuffers>=2.0\n",
            "  Downloading flatbuffers-22.11.23-py2.py3-none-any.whl (26 kB)\n",
            "Requirement already satisfied: opt-einsum>=2.3.2 in /usr/local/lib/python3.8/dist-packages (from tensorflow-gpu) (3.3.0)\n",
            "Collecting keras<2.12,>=2.11.0\n",
            "  Downloading keras-2.11.0-py2.py3-none-any.whl (1.7 MB)\n",
            "\u001b[K     |████████████████████████████████| 1.7 MB 46.7 MB/s \n",
            "\u001b[?25hRequirement already satisfied: libclang>=13.0.0 in /usr/local/lib/python3.8/dist-packages (from tensorflow-gpu) (14.0.6)\n",
            "Requirement already satisfied: setuptools in /usr/local/lib/python3.8/dist-packages (from tensorflow-gpu) (57.4.0)\n",
            "Requirement already satisfied: numpy>=1.20 in /usr/local/lib/python3.8/dist-packages (from tensorflow-gpu) (1.21.6)\n",
            "Requirement already satisfied: tensorflow-io-gcs-filesystem>=0.23.1 in /usr/local/lib/python3.8/dist-packages (from tensorflow-gpu) (0.28.0)\n",
            "Requirement already satisfied: absl-py>=1.0.0 in /usr/local/lib/python3.8/dist-packages (from tensorflow-gpu) (1.3.0)\n",
            "Requirement already satisfied: six>=1.12.0 in /usr/local/lib/python3.8/dist-packages (from tensorflow-gpu) (1.15.0)\n",
            "Requirement already satisfied: wheel<1.0,>=0.23.0 in /usr/local/lib/python3.8/dist-packages (from astunparse>=1.6.0->tensorflow-gpu) (0.38.4)\n",
            "Requirement already satisfied: tensorboard-plugin-wit>=1.6.0 in /usr/local/lib/python3.8/dist-packages (from tensorboard<2.12,>=2.11->tensorflow-gpu) (1.8.1)\n",
            "Requirement already satisfied: tensorboard-data-server<0.7.0,>=0.6.0 in /usr/local/lib/python3.8/dist-packages (from tensorboard<2.12,>=2.11->tensorflow-gpu) (0.6.1)\n",
            "Requirement already satisfied: markdown>=2.6.8 in /usr/local/lib/python3.8/dist-packages (from tensorboard<2.12,>=2.11->tensorflow-gpu) (3.4.1)\n",
            "Requirement already satisfied: werkzeug>=1.0.1 in /usr/local/lib/python3.8/dist-packages (from tensorboard<2.12,>=2.11->tensorflow-gpu) (1.0.1)\n",
            "Requirement already satisfied: google-auth<3,>=1.6.3 in /usr/local/lib/python3.8/dist-packages (from tensorboard<2.12,>=2.11->tensorflow-gpu) (2.14.1)\n",
            "Requirement already satisfied: google-auth-oauthlib<0.5,>=0.4.1 in /usr/local/lib/python3.8/dist-packages (from tensorboard<2.12,>=2.11->tensorflow-gpu) (0.4.6)\n",
            "Requirement already satisfied: requests<3,>=2.21.0 in /usr/local/lib/python3.8/dist-packages (from tensorboard<2.12,>=2.11->tensorflow-gpu) (2.23.0)\n",
            "Requirement already satisfied: pyasn1-modules>=0.2.1 in /usr/local/lib/python3.8/dist-packages (from google-auth<3,>=1.6.3->tensorboard<2.12,>=2.11->tensorflow-gpu) (0.2.8)\n",
            "Requirement already satisfied: cachetools<6.0,>=2.0.0 in /usr/local/lib/python3.8/dist-packages (from google-auth<3,>=1.6.3->tensorboard<2.12,>=2.11->tensorflow-gpu) (5.2.0)\n",
            "Requirement already satisfied: rsa<5,>=3.1.4 in /usr/local/lib/python3.8/dist-packages (from google-auth<3,>=1.6.3->tensorboard<2.12,>=2.11->tensorflow-gpu) (4.9)\n",
            "Requirement already satisfied: requests-oauthlib>=0.7.0 in /usr/local/lib/python3.8/dist-packages (from google-auth-oauthlib<0.5,>=0.4.1->tensorboard<2.12,>=2.11->tensorflow-gpu) (1.3.1)\n",
            "Requirement already satisfied: importlib-metadata>=4.4 in /usr/local/lib/python3.8/dist-packages (from markdown>=2.6.8->tensorboard<2.12,>=2.11->tensorflow-gpu) (4.13.0)\n",
            "Requirement already satisfied: zipp>=0.5 in /usr/local/lib/python3.8/dist-packages (from importlib-metadata>=4.4->markdown>=2.6.8->tensorboard<2.12,>=2.11->tensorflow-gpu) (3.10.0)\n",
            "Requirement already satisfied: pyasn1<0.5.0,>=0.4.6 in /usr/local/lib/python3.8/dist-packages (from pyasn1-modules>=0.2.1->google-auth<3,>=1.6.3->tensorboard<2.12,>=2.11->tensorflow-gpu) (0.4.8)\n",
            "Requirement already satisfied: certifi>=2017.4.17 in /usr/local/lib/python3.8/dist-packages (from requests<3,>=2.21.0->tensorboard<2.12,>=2.11->tensorflow-gpu) (2022.9.24)\n",
            "Requirement already satisfied: idna<3,>=2.5 in /usr/local/lib/python3.8/dist-packages (from requests<3,>=2.21.0->tensorboard<2.12,>=2.11->tensorflow-gpu) (2.10)\n",
            "Requirement already satisfied: urllib3!=1.25.0,!=1.25.1,<1.26,>=1.21.1 in /usr/local/lib/python3.8/dist-packages (from requests<3,>=2.21.0->tensorboard<2.12,>=2.11->tensorflow-gpu) (1.24.3)\n",
            "Requirement already satisfied: chardet<4,>=3.0.2 in /usr/local/lib/python3.8/dist-packages (from requests<3,>=2.21.0->tensorboard<2.12,>=2.11->tensorflow-gpu) (3.0.4)\n",
            "Requirement already satisfied: oauthlib>=3.0.0 in /usr/local/lib/python3.8/dist-packages (from requests-oauthlib>=0.7.0->google-auth-oauthlib<0.5,>=0.4.1->tensorboard<2.12,>=2.11->tensorflow-gpu) (3.2.2)\n",
            "Requirement already satisfied: pyparsing!=3.0.5,>=2.0.2 in /usr/local/lib/python3.8/dist-packages (from packaging->tensorflow-gpu) (3.0.9)\n",
            "Installing collected packages: tensorflow-estimator, tensorboard, keras, flatbuffers, tensorflow-gpu\n",
            "  Attempting uninstall: tensorflow-estimator\n",
            "    Found existing installation: tensorflow-estimator 2.9.0\n",
            "    Uninstalling tensorflow-estimator-2.9.0:\n",
            "      Successfully uninstalled tensorflow-estimator-2.9.0\n",
            "  Attempting uninstall: tensorboard\n",
            "    Found existing installation: tensorboard 2.9.1\n",
            "    Uninstalling tensorboard-2.9.1:\n",
            "      Successfully uninstalled tensorboard-2.9.1\n",
            "  Attempting uninstall: keras\n",
            "    Found existing installation: keras 2.9.0\n",
            "    Uninstalling keras-2.9.0:\n",
            "      Successfully uninstalled keras-2.9.0\n",
            "  Attempting uninstall: flatbuffers\n",
            "    Found existing installation: flatbuffers 1.12\n",
            "    Uninstalling flatbuffers-1.12:\n",
            "      Successfully uninstalled flatbuffers-1.12\n",
            "\u001b[31mERROR: pip's dependency resolver does not currently take into account all the packages that are installed. This behaviour is the source of the following dependency conflicts.\n",
            "tensorflow 2.9.2 requires flatbuffers<2,>=1.12, but you have flatbuffers 22.11.23 which is incompatible.\n",
            "tensorflow 2.9.2 requires keras<2.10.0,>=2.9.0rc0, but you have keras 2.11.0 which is incompatible.\n",
            "tensorflow 2.9.2 requires tensorboard<2.10,>=2.9, but you have tensorboard 2.11.0 which is incompatible.\n",
            "tensorflow 2.9.2 requires tensorflow-estimator<2.10.0,>=2.9.0rc0, but you have tensorflow-estimator 2.11.0 which is incompatible.\u001b[0m\n",
            "Successfully installed flatbuffers-22.11.23 keras-2.11.0 tensorboard-2.11.0 tensorflow-estimator-2.11.0 tensorflow-gpu-2.11.0\n"
          ]
        },
        {
          "data": {
            "application/vnd.colab-display-data+json": {
              "pip_warning": {
                "packages": [
                  "flatbuffers",
                  "keras",
                  "tensorboard",
                  "tensorflow"
                ]
              }
            }
          },
          "metadata": {},
          "output_type": "display_data"
        }
      ],
      "source": [
        "!pip install tensorflow-gpu"
      ],
      "id": "r9tWjFaBl5p1"
    },
    {
      "cell_type": "code",
      "execution_count": null,
      "metadata": {
        "colab": {
          "base_uri": "https://localhost:8080/"
        },
        "id": "1cc3e3e9",
        "outputId": "9837b064-75af-4cd1-a2c0-70959343c6c7"
      },
      "outputs": [
        {
          "data": {
            "text/plain": [
              "['Potato___Early_blight', 'Potato___Late_blight', 'Potato___healthy']"
            ]
          },
          "execution_count": 5,
          "metadata": {},
          "output_type": "execute_result"
        }
      ],
      "source": [
        "class_names=dataset.class_names\n",
        "class_names"
      ],
      "id": "1cc3e3e9"
    },
    {
      "cell_type": "code",
      "execution_count": null,
      "metadata": {
        "colab": {
          "base_uri": "https://localhost:8080/"
        },
        "id": "lpuShbc9nlJk",
        "outputId": "269e496e-2aa0-4947-c68d-4894e2151a30"
      },
      "outputs": [
        {
          "data": {
            "text/plain": [
              "<TakeDataset element_spec=(TensorSpec(shape=(None, 256, 256, 3), dtype=tf.float32, name=None), TensorSpec(shape=(None,), dtype=tf.int32, name=None))>"
            ]
          },
          "execution_count": 6,
          "metadata": {},
          "output_type": "execute_result"
        }
      ],
      "source": [
        "dataset.take(1)"
      ],
      "id": "lpuShbc9nlJk"
    },
    {
      "cell_type": "code",
      "execution_count": null,
      "metadata": {
        "colab": {
          "base_uri": "https://localhost:8080/"
        },
        "id": "0a158f3c",
        "outputId": "0c6cf446-f886-49c6-9de1-453f1d8f90d6"
      },
      "outputs": [
        {
          "data": {
            "text/plain": [
              "68"
            ]
          },
          "execution_count": 7,
          "metadata": {},
          "output_type": "execute_result"
        }
      ],
      "source": [
        "len(dataset)"
      ],
      "id": "0a158f3c"
    },
    {
      "cell_type": "code",
      "execution_count": null,
      "metadata": {
        "colab": {
          "base_uri": "https://localhost:8080/",
          "height": 269
        },
        "id": "fb8c7eba",
        "outputId": "a9ee0715-7215-4abf-f841-0993709d04f1"
      },
      "outputs": [
        {
          "data": {
            "image/png": "[encoded data removed]",
            "text/plain": [
              "<Figure size 432x288 with 9 Axes>"
            ]
          },
          "metadata": {},
          "output_type": "display_data"
        }
      ],
      "source": [
        "for image_batch,label_batch in dataset.take(1):\n",
        "    for i in range(9):\n",
        "      ax=plt.subplot(3,3,i+1)\n",
        "      plt.imshow(image_batch[i].numpy().astype(\"uint8\"))\n",
        "      #plt.axis(\"off\")\n",
        "      #plt.title(class_names[label_batch[0]])\n",
        "    #print(image_batch[0])\n",
        "   #print(label_batch.numpy())"
      ],
      "id": "fb8c7eba"
    },
    {
      "cell_type": "markdown",
      "metadata": {
        "id": "b5134402"
      },
      "source": [
        "## Function for spliting the dataset"
      ],
      "id": "b5134402"
    },
    {
      "cell_type": "code",
      "execution_count": null,
      "metadata": {
        "id": "717cdc66"
      },
      "outputs": [],
      "source": [
        "def dataset_partitions(ds,train_split=0.8,test_split=0.1,val_split=0.1,shuffle=True,shuffle_size=1000):\n",
        "    ds_size=len(ds)\n",
        "    if shuffle:\n",
        "        ds=ds.shuffle(shuffle_size,seed=4)\n",
        "    train_size=int(ds_size*train_split)\n",
        "    val_size=int(ds_size*val_split)\n",
        "    test_size=int(ds_size*test_split)\n",
        "    train_ds=ds.take(train_size)\n",
        "    val_ds=ds.skip(train_size).take(val_size)\n",
        "    test_ds=ds.skip(train_size).skip(val_size)\n",
        "    return train_ds,val_ds,test_ds"
      ],
      "id": "717cdc66"
    },
    {
      "cell_type": "code",
      "execution_count": null,
      "metadata": {
        "colab": {
          "base_uri": "https://localhost:8080/"
        },
        "id": "4f28ae53",
        "outputId": "4f6a7c2f-3175-4b9d-94cc-ef9f3ed355f9"
      },
      "outputs": [
        {
          "name": "stdout",
          "output_type": "stream",
          "text": [
            "54\n"
          ]
        }
      ],
      "source": [
        "train_ds,val_ds,test_ds=dataset_partitions(dataset)\n",
        "print(len(train_ds))"
      ],
      "id": "4f28ae53"
    },
    {
      "cell_type": "markdown",
      "metadata": {
        "id": "fcFZsBaU_dPq"
      },
      "source": [
        "##Data Augmentation"
      ],
      "id": "fcFZsBaU_dPq"
    },
    {
      "cell_type": "code",
      "execution_count": null,
      "metadata": {
        "id": "67d34d49"
      },
      "outputs": [],
      "source": [
        "train_ds=train_ds.cache().shuffle(1000).prefetch(buffer_size=tf.data.AUTOTUNE)\n",
        "val_ds=val_ds.cache().shuffle(1000).prefetch(buffer_size=tf.data.AUTOTUNE)\n",
        "test_ds=test_ds.cache().shuffle(1000).prefetch(buffer_size=tf.data.AUTOTUNE)"
      ],
      "id": "67d34d49"
    },
    {
      "cell_type": "code",
      "execution_count": null,
      "metadata": {
        "id": "e3c56422"
      },
      "outputs": [],
      "source": [
        "resize_and_rescale=tf.keras.Sequential([\n",
        "    layers.experimental.preprocessing.Resizing(img_size,img_size),\n",
        "    layers.experimental.preprocessing.Rescaling(1.0/255)\n",
        "])"
      ],
      "id": "e3c56422"
    },
    {
      "cell_type": "code",
      "execution_count": null,
      "metadata": {
        "id": "23909ae9"
      },
      "outputs": [],
      "source": [
        "data_augmentation=tf.keras.Sequential([\n",
        "    layers.experimental.preprocessing.RandomFlip(\"horizontal_and_vertical\"),\n",
        "    layers.experimental.preprocessing.RandomRotation(0.2)\n",
        "])"
      ],
      "id": "23909ae9"
    },
    {
      "cell_type": "code",
      "execution_count": null,
      "metadata": {
        "id": "290787a9"
      },
      "outputs": [],
      "source": [
        "input_shape=(bat_size,img_size,img_size,channel)\n",
        "n_classes=3\n",
        "model=models.Sequential([\n",
        "    resize_and_rescale,\n",
        "    data_augmentation,\n",
        "    layers.Conv2D(32,kernel_size=(3,3),activation=\"relu\",input_shape=input_shape),\n",
        "    layers.MaxPooling2D((2,2)),\n",
        "    layers.Conv2D(64,kernel_size=(3,3),activation=\"relu\"),\n",
        "    layers.MaxPooling2D((2,2)),\n",
        "    layers.Conv2D(64,(3,3),activation=\"relu\"),\n",
        "    layers.MaxPooling2D((2,2)),\n",
        "    layers.Conv2D(32,(3,3),activation=\"relu\"),\n",
        "    layers.MaxPooling2D((2,2)),\n",
        "    layers.Conv2D(32,(3,3),activation=\"relu\"),\n",
        "    layers.MaxPooling2D((2,2)),\n",
        "\n",
        "    layers.Flatten(),\n",
        "    layers.Dense(64,activation=\"relu\"),\n",
        "    layers.Dense(n_classes,activation=\"softmax\")\n",
        "])\n",
        "model.build(input_shape=input_shape)"
      ],
      "id": "290787a9"
    },
    {
      "cell_type": "code",
      "execution_count": null,
      "metadata": {
        "colab": {
          "base_uri": "https://localhost:8080/"
        },
        "id": "e2c34212",
        "outputId": "18906d8e-f672-4f5c-8f97-4a9f38ffa6af"
      },
      "outputs": [
        {
          "name": "stdout",
          "output_type": "stream",
          "text": [
            "Model: \"sequential_2\"\n",
            "_________________________________________________________________\n",
            " Layer (type)                Output Shape              Param #   \n",
            "=================================================================\n",
            " sequential (Sequential)     (32, 256, 256, 3)         0         \n",
            "                                                                 \n",
            " sequential_1 (Sequential)   (32, 256, 256, 3)         0         \n",
            "                                                                 \n",
            " conv2d (Conv2D)             (32, 254, 254, 32)        896       \n",
            "                                                                 \n",
            " max_pooling2d (MaxPooling2D  (32, 127, 127, 32)       0         \n",
            " )                                                               \n",
            "                                                                 \n",
            " conv2d_1 (Conv2D)           (32, 125, 125, 64)        18496     \n",
            "                                                                 \n",
            " max_pooling2d_1 (MaxPooling  (32, 62, 62, 64)         0         \n",
            " 2D)                                                             \n",
            "                                                                 \n",
            " conv2d_2 (Conv2D)           (32, 60, 60, 64)          36928     \n",
            "                                                                 \n",
            " max_pooling2d_2 (MaxPooling  (32, 30, 30, 64)         0         \n",
            " 2D)                                                             \n",
            "                                                                 \n",
            " conv2d_3 (Conv2D)           (32, 28, 28, 32)          18464     \n",
            "                                                                 \n",
            " max_pooling2d_3 (MaxPooling  (32, 14, 14, 32)         0         \n",
            " 2D)                                                             \n",
            "                                                                 \n",
            " conv2d_4 (Conv2D)           (32, 12, 12, 32)          9248      \n",
            "                                                                 \n",
            " max_pooling2d_4 (MaxPooling  (32, 6, 6, 32)           0         \n",
            " 2D)                                                             \n",
            "                                                                 \n",
            " flatten (Flatten)           (32, 1152)                0         \n",
            "                                                                 \n",
            " dense (Dense)               (32, 64)                  73792     \n",
            "                                                                 \n",
            " dense_1 (Dense)             (32, 3)                   195       \n",
            "                                                                 \n",
            "=================================================================\n",
            "Total params: 158,019\n",
            "Trainable params: 158,019\n",
            "Non-trainable params: 0\n",
            "_________________________________________________________________\n"
          ]
        }
      ],
      "source": [
        "model.summary()"
      ],
      "id": "e2c34212"
    },
    {
      "cell_type": "code",
      "execution_count": null,
      "metadata": {
        "id": "b760610d"
      },
      "outputs": [],
      "source": [
        "model.compile(\n",
        "    optimizer='adam',\n",
        "    loss=tf.keras.losses.SparseCategoricalCrossentropy(from_logits=False),\n",
        "    metrics=[\"accuracy\"]\n",
        ")"
      ],
      "id": "b760610d"
    },
    {
      "cell_type": "code",
      "execution_count": null,
      "metadata": {
        "colab": {
          "background_save": true,
          "base_uri": "https://localhost:8080/"
        },
        "id": "63cfd49a",
        "outputId": "7e90bd9e-c4b2-4d68-c899-c1b26af85e16"
      },
      "outputs": [
        {
          "name": "stdout",
          "output_type": "stream",
          "text": [
            "Epoch 1/50\n"
          ]
        },
        {
          "name": "stderr",
          "output_type": "stream",
          "text": [
            "WARNING:tensorflow:AutoGraph could not transform <function Model.make_train_function.<locals>.train_function at 0x7f292f7b8d30> and will run it as-is.\n",
            "Please report this to the TensorFlow team. When filing the bug, set the verbosity to 10 (on Linux, `export AUTOGRAPH_VERBOSITY=10`) and attach the full output.\n",
            "Cause: closure mismatch, requested ('self', 'step_function'), but source function had ()\n",
            "To silence this warning, decorate the function with @tf.autograph.experimental.do_not_convert\n"
          ]
        },
        {
          "name": "stdout",
          "output_type": "stream",
          "text": [
            "WARNING: AutoGraph could not transform <function Model.make_train_function.<locals>.train_function at 0x7f292f7b8d30> and will run it as-is.\n",
            "Please report this to the TensorFlow team. When filing the bug, set the verbosity to 10 (on Linux, `export AUTOGRAPH_VERBOSITY=10`) and attach the full output.\n",
            "Cause: closure mismatch, requested ('self', 'step_function'), but source function had ()\n",
            "To silence this warning, decorate the function with @tf.autograph.experimental.do_not_convert\n",
            "54/54 [==============================] - ETA: 0s - loss: 0.9099 - accuracy: 0.4902"
          ]
        },
        {
          "name": "stderr",
          "output_type": "stream",
          "text": [
            "WARNING:tensorflow:AutoGraph could not transform <function Model.make_test_function.<locals>.test_function at 0x7f292f0933a0> and will run it as-is.\n",
            "Please report this to the TensorFlow team. When filing the bug, set the verbosity to 10 (on Linux, `export AUTOGRAPH_VERBOSITY=10`) and attach the full output.\n",
            "Cause: closure mismatch, requested ('self', 'step_function'), but source function had ()\n",
            "To silence this warning, decorate the function with @tf.autograph.experimental.do_not_convert\n"
          ]
        },
        {
          "name": "stdout",
          "output_type": "stream",
          "text": [
            "WARNING: AutoGraph could not transform <function Model.make_test_function.<locals>.test_function at 0x7f292f0933a0> and will run it as-is.\n",
            "Please report this to the TensorFlow team. When filing the bug, set the verbosity to 10 (on Linux, `export AUTOGRAPH_VERBOSITY=10`) and attach the full output.\n",
            "Cause: closure mismatch, requested ('self', 'step_function'), but source function had ()\n",
            "To silence this warning, decorate the function with @tf.autograph.experimental.do_not_convert\n",
            "54/54 [==============================] - 767s 4s/step - loss: 0.9099 - accuracy: 0.4902 - val_loss: 0.8489 - val_accuracy: 0.6094\n",
            "Epoch 2/50\n",
            "54/54 [==============================] - 213s 4s/step - loss: 0.6557 - accuracy: 0.7292 - val_loss: 0.5519 - val_accuracy: 0.7708\n",
            "Epoch 3/50\n",
            "54/54 [==============================] - 214s 4s/step - loss: 0.3630 - accuracy: 0.8380 - val_loss: 0.2996 - val_accuracy: 0.8594\n",
            "Epoch 4/50\n",
            "54/54 [==============================] - 209s 4s/step - loss: 0.2602 - accuracy: 0.9132 - val_loss: 0.6446 - val_accuracy: 0.7708\n",
            "Epoch 5/50\n",
            "54/54 [==============================] - 206s 4s/step - loss: 0.2218 - accuracy: 0.9057 - val_loss: 0.3667 - val_accuracy: 0.8177\n",
            "Epoch 6/50\n",
            "54/54 [==============================] - 210s 4s/step - loss: 0.1680 - accuracy: 0.9375 - val_loss: 0.2366 - val_accuracy: 0.9115\n",
            "Epoch 7/50\n",
            "54/54 [==============================] - 209s 4s/step - loss: 0.1692 - accuracy: 0.9369 - val_loss: 0.2109 - val_accuracy: 0.9010\n",
            "Epoch 8/50\n",
            "54/54 [==============================] - 203s 4s/step - loss: 0.1674 - accuracy: 0.9381 - val_loss: 0.1127 - val_accuracy: 0.9740\n",
            "Epoch 9/50\n",
            "54/54 [==============================] - 203s 4s/step - loss: 0.1086 - accuracy: 0.9601 - val_loss: 0.1115 - val_accuracy: 0.9635\n",
            "Epoch 10/50\n",
            "54/54 [==============================] - 208s 4s/step - loss: 0.0997 - accuracy: 0.9659 - val_loss: 0.1129 - val_accuracy: 0.9583\n",
            "Epoch 11/50\n",
            "54/54 [==============================] - 222s 4s/step - loss: 0.0951 - accuracy: 0.9647 - val_loss: 0.2979 - val_accuracy: 0.8750\n",
            "Epoch 12/50\n",
            "54/54 [==============================] - 224s 4s/step - loss: 0.1254 - accuracy: 0.9525 - val_loss: 0.0785 - val_accuracy: 0.9740\n",
            "Epoch 13/50\n",
            "54/54 [==============================] - 222s 4s/step - loss: 0.1123 - accuracy: 0.9601 - val_loss: 0.2079 - val_accuracy: 0.9115\n",
            "Epoch 14/50\n",
            "54/54 [==============================] - 222s 4s/step - loss: 0.1140 - accuracy: 0.9618 - val_loss: 0.1294 - val_accuracy: 0.9531\n",
            "Epoch 15/50\n",
            "54/54 [==============================] - 221s 4s/step - loss: 0.0840 - accuracy: 0.9711 - val_loss: 0.0639 - val_accuracy: 0.9688\n",
            "Epoch 16/50\n",
            "54/54 [==============================] - 223s 4s/step - loss: 0.0647 - accuracy: 0.9792 - val_loss: 0.0699 - val_accuracy: 0.9792\n",
            "Epoch 17/50\n",
            "54/54 [==============================] - 224s 4s/step - loss: 0.0585 - accuracy: 0.9780 - val_loss: 0.0467 - val_accuracy: 0.9896\n",
            "Epoch 18/50\n",
            "54/54 [==============================] - 219s 4s/step - loss: 0.0671 - accuracy: 0.9803 - val_loss: 0.0763 - val_accuracy: 0.9740\n",
            "Epoch 19/50\n",
            "54/54 [==============================] - 213s 4s/step - loss: 0.0662 - accuracy: 0.9803 - val_loss: 0.1521 - val_accuracy: 0.9427\n",
            "Epoch 20/50\n",
            "54/54 [==============================] - 213s 4s/step - loss: 0.0493 - accuracy: 0.9838 - val_loss: 0.1373 - val_accuracy: 0.9479\n",
            "Epoch 21/50\n",
            "54/54 [==============================] - 214s 4s/step - loss: 0.0687 - accuracy: 0.9792 - val_loss: 0.0440 - val_accuracy: 0.9844\n",
            "Epoch 22/50\n",
            "54/54 [==============================] - 218s 4s/step - loss: 0.0494 - accuracy: 0.9832 - val_loss: 0.1366 - val_accuracy: 0.9375\n",
            "Epoch 23/50\n",
            "54/54 [==============================] - 219s 4s/step - loss: 0.0915 - accuracy: 0.9578 - val_loss: 0.0905 - val_accuracy: 0.9635\n",
            "Epoch 24/50\n",
            "54/54 [==============================] - 221s 4s/step - loss: 0.0388 - accuracy: 0.9907 - val_loss: 0.0920 - val_accuracy: 0.9688\n",
            "Epoch 25/50\n",
            "54/54 [==============================] - 217s 4s/step - loss: 0.0369 - accuracy: 0.9861 - val_loss: 0.0713 - val_accuracy: 0.9688\n",
            "Epoch 26/50\n",
            "54/54 [==============================] - 211s 4s/step - loss: 0.0307 - accuracy: 0.9890 - val_loss: 0.0483 - val_accuracy: 0.9844\n",
            "Epoch 27/50\n",
            "54/54 [==============================] - 214s 4s/step - loss: 0.1017 - accuracy: 0.9653 - val_loss: 0.1361 - val_accuracy: 0.9375\n",
            "Epoch 28/50\n",
            "54/54 [==============================] - 216s 4s/step - loss: 0.0534 - accuracy: 0.9826 - val_loss: 0.0787 - val_accuracy: 0.9740\n",
            "Epoch 29/50\n",
            "54/54 [==============================] - 220s 4s/step - loss: 0.0378 - accuracy: 0.9890 - val_loss: 0.0430 - val_accuracy: 0.9896\n",
            "Epoch 30/50\n",
            "54/54 [==============================] - 220s 4s/step - loss: 0.0238 - accuracy: 0.9931 - val_loss: 0.0318 - val_accuracy: 0.9896\n",
            "Epoch 31/50\n",
            "54/54 [==============================] - 217s 4s/step - loss: 0.0471 - accuracy: 0.9797 - val_loss: 0.0178 - val_accuracy: 1.0000\n",
            "Epoch 32/50\n",
            "54/54 [==============================] - 218s 4s/step - loss: 0.0360 - accuracy: 0.9861 - val_loss: 0.0095 - val_accuracy: 0.9948\n",
            "Epoch 33/50\n",
            "54/54 [==============================] - 210s 4s/step - loss: 0.0433 - accuracy: 0.9838 - val_loss: 0.0140 - val_accuracy: 0.9948\n",
            "Epoch 34/50\n",
            "54/54 [==============================] - 215s 4s/step - loss: 0.0379 - accuracy: 0.9861 - val_loss: 0.2968 - val_accuracy: 0.8854\n",
            "Epoch 35/50\n",
            "30/54 [===============>..............] - ETA: 1:36 - loss: 0.0181 - accuracy: 0.9937"
          ]
        }
      ],
      "source": [
        "history=model.fit(\n",
        "    train_ds,\n",
        "    epochs=epoch,\n",
        "    batch_size=bat_size,\n",
        "    verbose=1,\n",
        "    validation_data=val_ds\n",
        ")"
      ],
      "id": "63cfd49a"
    },
    {
      "cell_type": "code",
      "execution_count": null,
      "metadata": {
        "id": "b2f08c06"
      },
      "outputs": [],
      "source": [
        "scores=model.evaluate(test_ds)"
      ],
      "id": "b2f08c06"
    },
    {
      "cell_type": "code",
      "execution_count": null,
      "metadata": {
        "id": "JEQo9mvwVBtV"
      },
      "outputs": [],
      "source": [
        "scores"
      ],
      "id": "JEQo9mvwVBtV"
    },
    {
      "cell_type": "code",
      "execution_count": null,
      "metadata": {
        "id": "m37Tts1-VFsi"
      },
      "outputs": [],
      "source": [
        "accuracy=history.history[\"accuracy\"]\n",
        "val_accuracy=history.history[\"val_accuracy\"]\n",
        "loss=history.history[\"loss\"]\n",
        "val_loss=history.history[\"val_loss\"]"
      ],
      "id": "m37Tts1-VFsi"
    },
    {
      "cell_type": "code",
      "execution_count": null,
      "metadata": {
        "id": "-XPPEweAWsLJ"
      },
      "outputs": [],
      "source": [
        "history.history.keys()"
      ],
      "id": "-XPPEweAWsLJ"
    },
    {
      "cell_type": "code",
      "execution_count": null,
      "metadata": {
        "id": "Er6DLz-NW_Zd"
      },
      "outputs": [],
      "source": [
        "plt.figure(figsize=(10,10))\n",
        "plt.subplot(1,2,1)\n",
        "plt.plot(range(epoch),accuracy,label=\"Training_accuracy\")\n",
        "plt.plot(range(epoch),val_accuracy,label=\"Validation_accuracy\")\n",
        "plt.legend(loc=\"lower right\")\n",
        "plt.title(\"Training_and_validation_accuracy\")\n",
        "plt.subplot(1,2,2)\n",
        "plt.plot(range(epoch),loss,label=\"Training_loss\")\n",
        "plt.plot(range(epoch),val_loss,label=\"Validation_loss\")\n",
        "plt.legend(loc=\"upper right\")\n",
        "plt.title(\"Training_and_validation_loss\")\n",
        "plt.show()"
      ],
      "id": "Er6DLz-NW_Zd"
    },
    {
      "cell_type": "code",
      "execution_count": null,
      "metadata": {
        "id": "OsAoKElSXTW4"
      },
      "outputs": [],
      "source": [
        "#import ipdb\n",
        "import numpy as np\n",
        "for image_batch,labels_batch in dataset.take(1):\n",
        "  #ipdb. set_trace()\n",
        "  first_image=image_batch[0].numpy().astype('uint8')\n",
        "  first_label=labels_batch[0].numpy()\n",
        "  print(\"First image to predict\")\n",
        "  plt.imshow(first_image)\n",
        "  print(\"First image actual label:\",class_names[first_label])\n",
        "  batch_prediction=model.predict(image_batch)\n",
        "  print(\"Predicted label:\",class_names[np.argmax(batch_prediction[0])])"
      ],
      "id": "OsAoKElSXTW4"
    },
    {
      "cell_type": "code",
      "execution_count": null,
      "metadata": {
        "id": "KduU3i0cZl8G"
      },
      "outputs": [],
      "source": [
        "def prediction(model,img):\n",
        "  img_array=tf.keras.preprocessing.image.img_to_array(image[i].numpy())\n",
        "  img_array=tf.expand_dims(img_array,0)\n",
        "  predictions=model.predict(img_array)\n",
        "  predicted_class=class_names[np.argmax(predictions[0])]\n",
        "  confidence=round(100*(np.max(predictions[0])),2)\n",
        "  return predicted_class,confidence"
      ],
      "id": "KduU3i0cZl8G"
    },
    {
      "cell_type": "code",
      "execution_count": null,
      "metadata": {
        "id": "PTEv2-mh0JMk"
      },
      "outputs": [],
      "source": [
        "plt.figure(figsize=(15,15))\n",
        "for image,labels in test_ds.take(1):\n",
        "  for i in range(9):\n",
        "    ax=plt.subplot(3,3,i+1)\n",
        "    plt.imshow(image[i].numpy().astype('uint8'))\n",
        "    predicted_class,confidence=prediction(model,image[i].numpy())\n",
        "    actual_class=class_names[labels[i]]\n",
        "    plt.title(f\"Actual class:{actual_class}\\n Predicted class:{predicted_class}\\n Confidence:{confidence}\")\n",
        "    plt.axis(\"off\")"
      ],
      "id": "PTEv2-mh0JMk"
    },
    {
      "cell_type": "code",
      "execution_count": null,
      "metadata": {
        "id": "W9chzt8S0qmH"
      },
      "outputs": [],
      "source": [
        "!pip install gradio"
      ],
      "id": "W9chzt8S0qmH"
    },
    {
      "cell_type": "code",
      "execution_count": null,
      "metadata": {
        "id": "SW7g7fn_FzVU"
      },
      "outputs": [],
      "source": [
        "import gradio as gr"
      ],
      "id": "SW7g7fn_FzVU"
    },
    {
      "cell_type": "code",
      "execution_count": null,
      "metadata": {
        "id": "953rTSYpfNlW"
      },
      "outputs": [],
      "source": [
        "def predict_image(inp):\n",
        "  inp = inp.reshape((-1,256,256,3))\n",
        "  prediction = model.predict(inp)[0]\n",
        "  confidences = {class_names[i]: float(prediction[i]) for i in range(3)}\n",
        "  return confidences"
      ],
      "id": "953rTSYpfNlW"
    },
    {
      "cell_type": "code",
      "execution_count": null,
      "metadata": {
        "id": "Hnf7gyC_Dh2r"
      },
      "outputs": [],
      "source": [
        "import gradio as gr\n",
        "image = gr.inputs.Image(shape=(256,256))\n",
        "label = gr.outputs.Label(num_top_classes=3)\n",
        "\n",
        "gr.Interface(fn=predict_image, inputs=image, outputs=label,interpretation='default').launch(debug='True')"
      ],
      "id": "Hnf7gyC_Dh2r"
    },
    {
      "cell_type": "code",
      "execution_count": null,
      "metadata": {
        "id": "SSZxA-HOawh3"
      },
      "outputs": [],
      "source": [
        "!pip install ipdb"
      ],
      "id": "SSZxA-HOawh3"
    },
    {
      "cell_type": "code",
      "execution_count": null,
      "metadata": {
        "id": "JMGUt5eHaznX"
      },
      "outputs": [],
      "source": [],
      "id": "JMGUt5eHaznX"
    }
  ],
  "metadata": {
    "accelerator": "GPU",
    "colab": {
      "provenance": [],
      "toc_visible": true,
      "include_colab_link": true
    },
    "gpuClass": "standard",
    "kernelspec": {
      "display_name": "Python 3 (ipykernel)",
      "language": "python",
      "name": "python3"
    },
    "language_info": {
      "codemirror_mode": {
        "name": "ipython",
        "version": 3
      },
      "file_extension": ".py",
      "mimetype": "text/x-python",
      "name": "python",
      "nbconvert_exporter": "python",
      "pygments_lexer": "ipython3",
      "version": "3.9.12"
    }
  },
  "nbformat": 4,
  "nbformat_minor": 5
}